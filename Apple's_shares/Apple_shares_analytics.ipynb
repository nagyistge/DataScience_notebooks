{
 "cells": [
  {
   "cell_type": "markdown",
   "metadata": {},
   "source": [
    "## Data analysis with SQL and Python; \n",
    "###A look at Apple's stock price data as at 2014\n",
    "Data from google finance https://www.google.com/finance\n",
    "\n",
    "author @FRANCIS KESSIE"
   ]
  },
  {
   "cell_type": "code",
   "execution_count": 1,
   "metadata": {
    "collapsed": true
   },
   "outputs": [],
   "source": [
    "import sqlite3 as lite\n",
    "import csv\n",
    "import pandas as pd\n",
    "import matplotlib.pyplot as plt"
   ]
  },
  {
   "cell_type": "raw",
   "metadata": {},
   "source": [
    "Create a new database using SQLite and Insert the apple stock price table as csv file"
   ]
  },
  {
   "cell_type": "code",
   "execution_count": 2,
   "metadata": {
    "collapsed": false
   },
   "outputs": [],
   "source": [
    "#create a new database if it doesnt already exist\n",
    "con = lite.connect('apple_stockprice_2014.db')\n",
    "   \n",
    "#create a cursor object to execute SQL commands\n",
    "cur = con.cursor()\n",
    "    \n",
    "#create the stock price table\n",
    "cur.executescript(\"\"\"DROP TABLE IF EXISTS stockprice2014;\n",
    "                  CREATE TABLE stockprice2014 (date TEXT,year NUMERIC,month NUMERIC,open NUMERIC,\n",
    "                  high NUMERIC,low NUMERIC,close NUMERIC,volume NUMERIC,id INTEGER);\"\"\")\n",
    "\n",
    "#open the csv file conatining the stockprice data and load int the database\n",
    "with open('apple_share_prices_2014.csv','r') as inp: \n",
    "    # first line in file is default heading in csv.DictReader \n",
    "    dictinp = csv.DictReader(inp) \n",
    "    \n",
    "    apple_stkprice = [(val['date'], val['year'], val['month'], val['open'], val['high'], val['low'], \n",
    "                                 val['close'], val['volume'], val['id']) for val in dictinp]\n",
    "\n",
    "    cur.executemany(\"INSERT INTO stockprice2014 VALUES(?,?,?,?,?,?,?,?,?)\", apple_stkprice)\n",
    "    con.commit()\n",
    "    con.close()"
   ]
  },
  {
   "cell_type": "code",
   "execution_count": null,
   "metadata": {
    "collapsed": true
   },
   "outputs": [],
   "source": []
  },
  {
   "cell_type": "markdown",
   "metadata": {},
   "source": [
    "###Connect to database, make queries and look at data"
   ]
  },
  {
   "cell_type": "code",
   "execution_count": 3,
   "metadata": {
    "collapsed": false
   },
   "outputs": [],
   "source": [
    "def get_query(sql_command):\n",
    "    \"\"\"connect to database, make qeuries and return result as pandas dataframe\"\"\"\n",
    "    with lite.connect('apple_stockprice_2014.db') as con:\n",
    "   \n",
    "        #create a cursor object to execute SQL commands\n",
    "        cur = con.cursor()\n",
    "        \n",
    "        #Output table as pandas dataframe take a quick look at the first 5 rows \n",
    "        cur.execute(sql_command)\n",
    "        rows = cur.fetchall() \n",
    "        header = [name[0] for name in cur.description] #first row  should be header\n",
    "        return pd.DataFrame(rows, columns=header)"
   ]
  },
  {
   "cell_type": "code",
   "execution_count": 4,
   "metadata": {
    "collapsed": false
   },
   "outputs": [],
   "source": [
    "#query database and take a quick look at five rows\n",
    "df = get_query(\"SELECT * FROM stockprice2014\")"
   ]
  },
  {
   "cell_type": "code",
   "execution_count": 5,
   "metadata": {
    "collapsed": false
   },
   "outputs": [
    {
     "name": "stdout",
     "output_type": "stream",
     "text": [
      "      date  year  month    open    high     low   close    volume  id\n",
      "0  1/30/14  2014      1  502.54   506.5   496.7  499.78  24182996   1\n",
      "1  1/29/14  2014      1  503.95  507.37  498.62  500.75  17991828   2\n",
      "2  1/28/14  2014      1  508.76     515  502.07  506.50  38119083   3\n",
      "3  1/27/14  2014      1  550.07   554.8  545.75  550.50  20602736   4\n",
      "4  1/24/14  2014      1     554  555.62  544.75  546.07  15483491   5\n"
     ]
    }
   ],
   "source": [
    "print(df.head())  "
   ]
  },
  {
   "cell_type": "code",
   "execution_count": 6,
   "metadata": {
    "collapsed": false
   },
   "outputs": [
    {
     "name": "stdout",
     "output_type": "stream",
     "text": [
      "        date  year  month   open   high    low  close    volume    id\n",
      "3550  1/7/00  2000      1  24.12  25.25  23.88  24.75  16133600  3551\n",
      "3551  1/6/00  2000      1  26.53  26.75  23.25  23.75  26947600  3552\n",
      "3552  1/5/00  2000      1  25.94  27.64     25  26.00  27353600  3553\n",
      "3553  1/4/00  2000      1  27.06  27.66   25.3  25.62  17883600  3554\n",
      "3554  1/3/00  2000      1  26.22  28.12  25.42  27.97  18648000  3555\n"
     ]
    }
   ],
   "source": [
    "# take a quick look at the last five rows\n",
    "print(df.tail())  "
   ]
  },
  {
   "cell_type": "code",
   "execution_count": 8,
   "metadata": {
    "collapsed": false
   },
   "outputs": [
    {
     "name": "stdout",
     "output_type": "stream",
     "text": [
      "   Number_of_columns\n",
      "0               3555\n"
     ]
    }
   ],
   "source": [
    "#How many columns are there in the table\n",
    "print(get_query('SELECT COUNT(*) AS Number_of_columns FROM stockprice2014'))\n"
   ]
  },
  {
   "cell_type": "code",
   "execution_count": 9,
   "metadata": {
    "collapsed": false
   },
   "outputs": [
    {
     "name": "stdout",
     "output_type": "stream",
     "text": [
      "   Null rows in low\n",
      "0                20\n"
     ]
    }
   ],
   "source": [
    "#count null or empty rows in the low column\n",
    "print(get_query(\"\"\" SELECT COUNT(low) AS \"Null rows in low\"\n",
    "                FROM stockprice2014 \n",
    "                WHERE low is null or low = ''\"\"\"))\n"
   ]
  },
  {
   "cell_type": "code",
   "execution_count": 16,
   "metadata": {
    "collapsed": false
   },
   "outputs": [
    {
     "name": "stdout",
     "output_type": "stream",
     "text": [
      "    year  average_opening_price  average_closing_price\n",
      "0   2014             540.247000             539.288000\n",
      "1   2013             473.106468             472.634881\n",
      "2   2012             576.652680             576.049680\n",
      "3   2011             364.051310             364.001548\n",
      "4   2010             252.933166             259.057413\n",
      "5   2009             143.766770             146.907899\n",
      "6   2008             141.197608             141.571490\n",
      "7   2007             128.389124             128.274183\n",
      "8   2006              70.994940              70.810637\n",
      "9   2005              46.629683              46.675833\n",
      "10  2004              17.704365              17.763452\n",
      "11  2003               9.263373               9.271984\n",
      "12  2002               9.563690               9.569603\n",
      "13  2001              10.083266              10.109435\n",
      "14  2000              22.166905              22.855556\n"
     ]
    }
   ],
   "source": [
    "#How has the average opening and closing price changed over the years\n",
    "average_openprice = \"\"\"SELECT year, AVG(open) AS average_opening_price,\n",
    "               AVG(close) AS average_closing_price\n",
    "               FROM stockprice2014\n",
    "               GROUP BY year\n",
    "               ORDER by year DESC\"\"\" # ordered in descending order\n",
    "print(get_query(average_openprice))"
   ]
  },
  {
   "cell_type": "code",
   "execution_count": 17,
   "metadata": {
    "collapsed": false
   },
   "outputs": [],
   "source": [
    "# Visualise on a scatter plot\n",
    "df = get_query(average_openprice)"
   ]
  },
  {
   "cell_type": "code",
   "execution_count": 9,
   "metadata": {
    "collapsed": false
   },
   "outputs": [],
   "source": [
    "%matplotlib inline"
   ]
  },
  {
   "cell_type": "code",
   "execution_count": 18,
   "metadata": {
    "collapsed": false
   },
   "outputs": [
    {
     "data": {
      "image/png": "[encoded data removed]",
      "text/plain": [
       "<matplotlib.figure.Figure at 0x1082a68d0>"
      ]
     },
     "metadata": {},
     "output_type": "display_data"
    }
   ],
   "source": [
    "fig,  sp = plt.subplots(figsize = (6,4))\n",
    "sp.plot(df[\"year\"], df[\"average_opening_price\"], label=\"average opening price\")\n",
    "sp.plot(df[\"year\"], df[\"average_closing_price\"], label=\"average closing price\")\n",
    "sp.legend(loc=2); # upper left corner\n",
    "sp.set_xlabel('year')\n",
    "sp.set_ylabel('Average prices of stocks ($)')\n",
    "sp.set_title(\"Average prices of apples' share from 2000 to 2014\");"
   ]
  },
  {
   "cell_type": "code",
   "execution_count": 17,
   "metadata": {
    "collapsed": false
   },
   "outputs": [
    {
     "name": "stdout",
     "output_type": "stream",
     "text": [
      "       date    open   close  days_increase\n",
      "0    3/1/00    0.00   32.58          32.58\n",
      "1    3/3/00    0.00   32.00          32.00\n",
      "2    3/6/00    0.00   31.42          31.42\n",
      "3   4/17/12  578.94  609.70          30.76\n",
      "4    3/2/00    0.00   30.50          30.50\n",
      "5   3/13/00    0.00   30.33          30.33\n",
      "6   8/28/00    0.00   29.03          29.03\n",
      "7   5/21/12  534.50  561.28          26.78\n",
      "8  11/19/12  540.71  565.73          25.02\n",
      "9  12/31/12  510.53  532.17          21.64\n"
     ]
    }
   ],
   "source": [
    "# up to 2014, which are the top ten days on which the highest single-day increase \n",
    "# in Apple's share value were recorded and what are the values. \n",
    "highest_singleday_increase = \"\"\"SELECT date, open, close, (close - open) AS days_increase\n",
    "                          FROM stockprice2014\n",
    "                          WHERE (open >= 0.00 and open != \"\") \n",
    "                          ORDER BY days_increase DESC\n",
    "                          LIMIT 10\"\"\"\n",
    "\n",
    "print(get_query(highest_singleday_increase))"
   ]
  },
  {
   "cell_type": "code",
   "execution_count": 19,
   "metadata": {
    "collapsed": false
   },
   "outputs": [
    {
     "name": "stdout",
     "output_type": "stream",
     "text": [
      "    year  avg_daily_change\n",
      "0   2000          0.688651\n",
      "1   2001          0.026169\n",
      "2   2002          0.005913\n",
      "3   2003          0.008611\n",
      "4   2004          0.059087\n",
      "5   2005          0.046151\n",
      "6   2006         -0.184303\n",
      "7   2007         -0.114940\n",
      "8   2008          0.373882\n",
      "9   2009          3.141128\n",
      "10  2010          6.124247\n",
      "11  2011         -0.049762\n",
      "12  2012         -0.603000\n",
      "13  2013         -0.471587\n",
      "14  2014         -0.959000\n"
     ]
    }
   ],
   "source": [
    "#How does the average daily price change in Apple stock differ from year to year\n",
    "average_dailyprice = \"\"\" SELECT year,\n",
    "                         AVG(close - open) AS avg_daily_change\n",
    "                         FROM stockprice2014\n",
    "                         GROUP BY year\n",
    "                         ORDER BY year\"\"\"\n",
    "print(get_query(average_dailyprice))"
   ]
  },
  {
   "cell_type": "code",
   "execution_count": 20,
   "metadata": {
    "collapsed": false
   },
   "outputs": [
    {
     "data": {
      "text/plain": [
       "<matplotlib.text.Text at 0x108b0b358>"
      ]
     },
     "execution_count": 20,
     "metadata": {},
     "output_type": "execute_result"
    },
    {
     "data": {
      "image/png": "[encoded data removed]",
      "text/plain": [
       "<matplotlib.figure.Figure at 0x108b11550>"
      ]
     },
     "metadata": {},
     "output_type": "display_data"
    }
   ],
   "source": [
    "#plot to visualize\n",
    "df = get_query(average_dailyprice)\n",
    "plt.plot(df['year'], df['avg_daily_change'])\n",
    "plt.xlabel('year')\n",
    "plt.ylabel('average daily change in price ($)')"
   ]
  },
  {
   "cell_type": "code",
   "execution_count": null,
   "metadata": {
    "collapsed": true
   },
   "outputs": [],
   "source": []
  }
 ],
 "metadata": {
  "kernelspec": {
   "display_name": "Python 3",
   "language": "python",
   "name": "python3"
  },
  "language_info": {
   "codemirror_mode": {
    "name": "ipython",
    "version": 3
   },
   "file_extension": ".py",
   "mimetype": "text/x-python",
   "name": "python",
   "nbconvert_exporter": "python",
   "pygments_lexer": "ipython3",
   "version": "3.4.3"
  }
 },
 "nbformat": 4,
 "nbformat_minor": 0
}

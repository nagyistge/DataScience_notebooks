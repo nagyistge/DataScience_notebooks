{
 "cells": [
  {
   "cell_type": "markdown",
   "metadata": {},
   "source": [
    "# Chi-squared test on number of credit lines in loan data "
   ]
  },
  {
   "cell_type": "code",
   "execution_count": 1,
   "metadata": {
    "collapsed": false
   },
   "outputs": [],
   "source": [
    "\"\"\"perform chi_sqaured test on number of credit lines in loan data\"\"\"\n",
    "\n",
    "import matplotlib.pyplot as plt\n",
    "import pandas as pd\n",
    "import scipy.stats as stats\n",
    "import collections\n",
    "\n",
    "#read loan data and remove incomplete rows\n",
    "loansData = pd.read_csv('https://spark-public.s3.amazonaws.com/dataanalysis/loansData.csv')\n",
    "loansData.dropna(inplace=True)\n",
    "\n",
    "#create frequency table of open credit lines\n",
    "freq = collections.Counter(loansData['Open.CREDIT.Lines'])\n",
    "\n"
   ]
  },
  {
   "cell_type": "raw",
   "metadata": {
    "collapsed": false
   },
   "source": [
    "#Explore few questions\n",
    "1. How many unique number of open credit lines are there in the data? \n",
    "2. What is the most frequent number of open credit lines. \n",
    "3. Does the data look evenly distributed?"
   ]
  },
  {
   "cell_type": "code",
   "execution_count": 4,
   "metadata": {
    "collapsed": true
   },
   "outputs": [],
   "source": [
    "%matplotlib inline"
   ]
  },
  {
   "cell_type": "code",
   "execution_count": 7,
   "metadata": {
    "collapsed": false
   },
   "outputs": [
    {
     "data": {
      "image/png": "[encoded data removed]",
      "text/plain": [
       "<matplotlib.figure.Figure at 0x7fbdb9ee2860>"
      ]
     },
     "metadata": {},
     "output_type": "display_data"
    }
   ],
   "source": [
    "#create frequency table of open credit lines\n",
    "freq = collections.Counter(loansData['Open.CREDIT.Lines'])\n",
    "plt.figure()\n",
    "plt.bar(freq.keys(), freq.values(), width=1)\n",
    "plt.xlabel(\"Open credit lines\")\n",
    "plt.ylabel(\"Counts\")\n",
    "plt.show()"
   ]
  },
  {
   "cell_type": "raw",
   "metadata": {},
   "source": [
    "There are around 40 unique credit lines with 8 occurring most"
   ]
  },
  {
   "cell_type": "code",
   "execution_count": 3,
   "metadata": {
    "collapsed": false
   },
   "outputs": [
    {
     "name": "stdout",
     "output_type": "stream",
     "text": [
      "(array([ 8.]), array([ 262.]))\n",
      "8.0\n"
     ]
    }
   ],
   "source": [
    "#calculate mode using mode function in scipy.stats\n",
    "mode = stats.mode(loansData['Open.CREDIT.Lines'])\n",
    "print(mode)\n",
    "\n",
    "for x in mode[0]:\n",
    "    print(x)"
   ]
  },
  {
   "cell_type": "code",
   "execution_count": 14,
   "metadata": {
    "collapsed": false
   },
   "outputs": [
    {
     "name": "stdout",
     "output_type": "stream",
     "text": [
      "2408.43314652\n",
      "0.0\n"
     ]
    }
   ],
   "source": [
    "#test to see if data is evenly distributed\n",
    "#Chi-square test of Open credit lines data\n",
    "chi, p = stats.chisquare([i for i in freq.values()])\n",
    "print(chi)\n",
    "print(p)   \n"
   ]
  },
  {
   "cell_type": "code",
   "execution_count": null,
   "metadata": {
    "collapsed": true
   },
   "outputs": [],
   "source": []
  }
 ],
 "metadata": {
  "kernelspec": {
   "display_name": "Python 3",
   "language": "python",
   "name": "python3"
  },
  "language_info": {
   "codemirror_mode": {
    "name": "ipython",
    "version": 3
   },
   "file_extension": ".py",
   "mimetype": "text/x-python",
   "name": "python",
   "nbconvert_exporter": "python",
   "pygments_lexer": "ipython3",
   "version": "3.4.3"
  }
 },
 "nbformat": 4,
 "nbformat_minor": 0
}
